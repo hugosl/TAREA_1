{
 "cells": [
  {
   "cell_type": "code",
   "execution_count": 1,
   "metadata": {
    "collapsed": true
   },
   "outputs": [],
   "source": [
    "from pylab import *\n",
    "%matplotlib inline"
   ]
  },
  {
   "cell_type": "code",
   "execution_count": 58,
   "metadata": {
    "collapsed": true
   },
   "outputs": [],
   "source": [
    "def raiz_bip(func,x_i,x_d):\n",
    "    err=1e-8\n",
    "    raiz = 0.5*(x_i+x_d)\n",
    "    y_i,y_d = func(x_i),func(x_d)\n",
    "    while abs(y_d)>=err:\n",
    "        y_m = func(raiz)\n",
    "        if y_m == 0.:\n",
    "            print \"chin, le atine :D\"\n",
    "            break\n",
    "        if y_m*y_i < 0:\n",
    "            x_d = raiz\n",
    "        else:\n",
    "            x_i = raiz\n",
    "        raiz = 0.5*(x_i+x_d)\n",
    "        y_i,y_d = func(x_i),func(x_d)\n",
    "    return raiz"
   ]
  },
  {
   "cell_type": "code",
   "execution_count": 111,
   "metadata": {
    "collapsed": false
   },
   "outputs": [
    {
     "name": "stdout",
     "output_type": "stream",
     "text": [
      "3.68673614413\n"
     ]
    }
   ],
   "source": [
    "print raiz_bip(funcion,2,4)"
   ]
  },
  {
   "cell_type": "code",
   "execution_count": 166,
   "metadata": {
    "collapsed": false
   },
   "outputs": [
    {
     "data": {
      "text/plain": [
       "-0.45140911938330658"
      ]
     },
     "execution_count": 166,
     "metadata": {},
     "output_type": "execute_result"
    }
   ],
   "source": [
    "funcion(1.82764202331)"
   ]
  },
  {
   "cell_type": "code",
   "execution_count": 160,
   "metadata": {
    "collapsed": false
   },
   "outputs": [],
   "source": [
    "def raiz_osc(funcion,x_in,x_fi):\n",
    "    fmin = 1e-4\n",
    "    x_ini,x_fin = x_in,x_in + fmin\n",
    "    n=0\n",
    "    i=0\n",
    "    while (x_fin < x_fi):\n",
    "        \n",
    "        y_i,y_d = funcion(x_ini),funcion(x_fin)\n",
    "        p = y_i*y_d\n",
    "   \n",
    "        while (p>0):\n",
    "            x_fin = x_fin + fmin\n",
    "           \n",
    "            if ( x_fin > x_fi):\n",
    "                i =1\n",
    "                break\n",
    "            y_i,y_d = funcion(x_ini),funcion(x_fin)\n",
    "            p = y_i*y_d\n",
    "            \n",
    "        if i == 1 and n > 0:\n",
    "            break\n",
    "        if i == 1:    \n",
    "            print  \"no hay raiz\"\n",
    "            #break\n",
    "        else :    \n",
    "            raiz = raiz_bip(funcion,x_ini,x_fin)\n",
    "            n +=1\n",
    "            x_ini = x_fin\n",
    "            x_fin = x_fin + fmin\n",
    "            print n, raiz\n",
    "        \n",
    "    #return raiz"
   ]
  },
  {
   "cell_type": "code",
   "execution_count": 161,
   "metadata": {
    "collapsed": true
   },
   "outputs": [],
   "source": [
    "def funcion(x):\n",
    "    return cos(x)+(6/5)*sin(x**2)"
   ]
  },
  {
   "cell_type": "code",
   "execution_count": 167,
   "metadata": {
    "collapsed": false
   },
   "outputs": [
    {
     "name": "stdout",
     "output_type": "stream",
     "text": [
      "1 1.72764202279\n",
      "2 2.72764202331\n",
      "3 2.85344215089\n",
      "4 3.68673613866\n",
      "5 3.85344215455\n"
     ]
    }
   ],
   "source": [
    "raiz_osc(funcion,1,4)"
   ]
  },
  {
   "cell_type": "code",
   "execution_count": 172,
   "metadata": {
    "collapsed": false
   },
   "outputs": [
    {
     "data": {
      "image/png": "[encoded data removed]",
      "text/plain": [
       "<matplotlib.figure.Figure at 0x7f3b3a0ab450>"
      ]
     },
     "metadata": {},
     "output_type": "display_data"
    }
   ],
   "source": [
    "x=linspace(1,4)\n",
    "plot(x,funcion(x))\n",
    "plot([1.72764202279],[0],'o')\n",
    "plot([2.72764202331],[0],'o')\n",
    "plot([2.85344215089],[0],'o')\n",
    "plot([3.68673613866],[0],'o')\n",
    "plot([3.85344215455],[0],'o')\n",
    "grid(True)\n",
    "show()"
   ]
  },
  {
   "cell_type": "code",
   "execution_count": 173,
   "metadata": {
    "collapsed": false
   },
   "outputs": [
    {
     "name": "stdout",
     "output_type": "stream",
     "text": [
      "1 1.72764197136\n",
      "2 2.72764202331\n",
      "3 2.85344215089\n",
      "4 3.68673613866\n",
      "5 3.85344215455\n",
      "6 4.37974844549\n",
      "7 4.68673614923\n",
      "8 4.9859028609\n",
      "9 5.37974844674\n",
      "10 5.53144389932\n",
      "11 5.98590286261\n",
      "12 6.03157720845\n"
     ]
    }
   ],
   "source": [
    "raiz_osc(funcion,0,2*pi)"
   ]
  },
  {
   "cell_type": "code",
   "execution_count": 186,
   "metadata": {
    "collapsed": false
   },
   "outputs": [
    {
     "data": {
      "image/png": "[encoded data removed]",
      "text/plain": [
       "<matplotlib.figure.Figure at 0x7f3b398d0d50>"
      ]
     },
     "metadata": {},
     "output_type": "display_data"
    }
   ],
   "source": [
    "x=linspace(0,2*pi)\n",
    "plot(x,funcion(x))\n",
    "plot([1.72764202279],[0],'o')\n",
    "plot([2.72764202331],[0],'o')\n",
    "plot([2.85344215089],[0],'o')\n",
    "plot([3.68673613866],[0],'o')\n",
    "plot([3.85344215455],[0],'o')\n",
    "plot([4.37974844549],[0],'o')\n",
    "plot([4.68673614923],[0],'o')\n",
    "plot([4.9859028609],[0],'o')\n",
    "plot([5.37974844674],[0],'o')\n",
    "plot([5.53144389932],[0],'o')\n",
    "plot([5.98590286261],[0],'o')\n",
    "plot([6.03157720845],[0],'o')\n",
    "grid(True)\n",
    "show()"
   ]
  },
  {
   "cell_type": "code",
   "execution_count": 191,
   "metadata": {
    "collapsed": false
   },
   "outputs": [
    {
     "data": {
      "image/png": "[encoded data removed]",
      "text/plain": [
       "<matplotlib.figure.Figure at 0x7f3b39cd30d0>"
      ]
     },
     "metadata": {},
     "output_type": "display_data"
    }
   ],
   "source": [
    "plot(x,funcion(x))\n",
    "plot([1.72764202279],[0],'o')\n",
    "plot([2.72764202331],[0],'o')\n",
    "plot([2.85344215089],[0],'o')\n",
    "plot([3.68673613866],[0],'o')\n",
    "plot([3.85344215455],[0],'o')\n",
    "plot([4.37974844549],[0],'o')\n",
    "plot([4.68673614923],[0],'o')\n",
    "plot([4.9859028609],[0],'o')\n",
    "plot([5.37974844674],[0],'o')\n",
    "plot([5.53144389932],[0],'o')\n",
    "plot([5.98590286261],[0],'o')\n",
    "plot([6.03157720845],[0],'o')\n",
    "xlim([1.5,6.3]),ylim([-.02,.02])\n",
    "grid(True)\n",
    "show()"
   ]
  },
  {
   "cell_type": "code",
   "execution_count": null,
   "metadata": {
    "collapsed": true
   },
   "outputs": [],
   "source": []
  }
 ],
 "metadata": {
  "kernelspec": {
   "display_name": "Python [Root]",
   "language": "python",
   "name": "Python [Root]"
  },
  "language_info": {
   "codemirror_mode": {
    "name": "ipython",
    "version": 2
   },
   "file_extension": ".py",
   "mimetype": "text/x-python",
   "name": "python",
   "nbconvert_exporter": "python",
   "pygments_lexer": "ipython2",
   "version": "2.7.12"
  }
 },
 "nbformat": 4,
 "nbformat_minor": 0
}
