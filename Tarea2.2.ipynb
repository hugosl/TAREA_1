{
 "cells": [
  {
   "cell_type": "code",
   "execution_count": 170,
   "metadata": {
    "collapsed": true
   },
   "outputs": [],
   "source": [
    "from pylab import *\n",
    "%matplotlib inline\n"
   ]
  },
  {
   "cell_type": "code",
   "execution_count": 171,
   "metadata": {
    "collapsed": true
   },
   "outputs": [],
   "source": [
    "def raiz_bip(func,x_i,x_d,y_fija):\n",
    "    err=1e-8\n",
    "    raiz = 0.5*(x_i+x_d)\n",
    "    y_i,y_d = func(x_i,y_fija),func(x_d,y_fija)\n",
    "    while abs(y_d)>=err:\n",
    "        y_m = func(raiz,y_fija)\n",
    "        if y_m == 0.:\n",
    "            print \"chin, le atine :D\"\n",
    "            break\n",
    "        if y_m*y_i < 0:\n",
    "            x_d = raiz\n",
    "        else:\n",
    "            x_i = raiz\n",
    "        raiz = 0.5*(x_i+x_d)\n",
    "        y_i,y_d = func(x_i,y_fija),func(x_d,y_fija)\n",
    "    return raiz"
   ]
  },
  {
   "cell_type": "code",
   "execution_count": 172,
   "metadata": {
    "collapsed": false
   },
   "outputs": [],
   "source": [
    "def funcion(x,y):\n",
    "    return (2*exp(-(x+1)**2))*(exp(-(y+2)**2) + exp(-(y-2)**2)) + 6*x*(x**2 + y**2)*exp(-(x**2+y**2)) -1"
   ]
  },
  {
   "cell_type": "code",
   "execution_count": 396,
   "metadata": {
    "collapsed": false
   },
   "outputs": [],
   "source": [
    "def raiz_osc(funcion,x_in,x_fi,y_in,y_fi):\n",
    "    fmin = 1e-3\n",
    "    y_fija = y_in + fmin \n",
    "    while y_fija < y_fi:\n",
    "        x_ini,x_fin = x_in,x_in + fmin\n",
    "        n=0\n",
    "        i=0\n",
    "        while (x_fin < x_fi):\n",
    "        \n",
    "            y_i,y_d = funcion(x_ini,y_fija),funcion(x_fin,y_fija)\n",
    "            p = y_i*y_d\n",
    "   \n",
    "            while (p>0):\n",
    "                x_fin = x_fin + fmin\n",
    "           \n",
    "                if ( x_fin > x_fi):\n",
    "                    i =1\n",
    "                    break\n",
    "                y_i,y_d = funcion(x_ini,y_fija),funcion(x_fin,y_fija)\n",
    "                p = y_i*y_d\n",
    "            \n",
    "            if i == 1 and n > 0:\n",
    "                break\n",
    "            if i == 1:    \n",
    "                #print  \"no hay raiz\"\n",
    "                break\n",
    "            else :    \n",
    "                raiz = raiz_bip(funcion,x_ini,x_fin,y_fija)\n",
    "                n += 1\n",
    "                x_ini = x_fin\n",
    "                x_fin = x_fin + fmin\n",
    "            xlim(-4,4),ylim(-4,4)    \n",
    "            plot(raiz,y_fija,'.',color = 'blue')\n",
    "            #x[n-1] = [raiz,y_fija]\n",
    "        #return (y_fija, x[2]),(y_fija,x[1])\n",
    "        y_fija = y_fija + fmin\n",
    "   \n",
    "    "
   ]
  },
  {
   "cell_type": "code",
   "execution_count": 216,
   "metadata": {
    "collapsed": true
   },
   "outputs": [],
   "source": [
    "def funcion2(x):\n",
    "    return sin(x)"
   ]
  },
  {
   "cell_type": "code",
   "execution_count": 231,
   "metadata": {
    "collapsed": false
   },
   "outputs": [
    {
     "name": "stdout",
     "output_type": "stream",
     "text": [
      "4\n"
     ]
    }
   ],
   "source": [
    "x = [0]*(2)\n",
    "x[1] = 4\n",
    "print x[1]"
   ]
  },
  {
   "cell_type": "code",
   "execution_count": 382,
   "metadata": {
    "collapsed": false
   },
   "outputs": [
    {
     "data": {
      "image/png": "[encoded data removed]",
      "text/plain": [
       "<matplotlib.figure.Figure at 0x7fd4ce9c4b90>"
      ]
     },
     "metadata": {},
     "output_type": "display_data"
    }
   ],
   "source": [
    "x=linspace(0,8)\n",
    "ylim(-1,1)\n",
    "#plot(x,funcion(x,1))\n",
    "plot(x,funcion2(x))\n",
    "plot([3.12486875],[0],'o',color = 'blue')\n",
    "grid(True)\n",
    "show()"
   ]
  },
  {
   "cell_type": "code",
   "execution_count": 398,
   "metadata": {
    "collapsed": false
   },
   "outputs": [
    {
     "data": {
      "image/png": "[encoded data removed]",
      "text/plain": [
       "<matplotlib.figure.Figure at 0x7fd4cf8ae090>"
      ]
     },
     "metadata": {},
     "output_type": "display_data"
    }
   ],
   "source": [
    "raiz_osc(funcion,-4,4,-4,4)\n"
   ]
  },
  {
   "cell_type": "code",
   "execution_count": 372,
   "metadata": {
    "collapsed": false
   },
   "outputs": [
    {
     "data": {
      "text/plain": [
       "[<matplotlib.lines.Line2D at 0x7fd4cf6056d0>]"
      ]
     },
     "execution_count": 372,
     "metadata": {},
     "output_type": "execute_result"
    },
    {
     "data": {
      "image/png": "[encoded data removed]",
      "text/plain": [
       "<matplotlib.figure.Figure at 0x7fd4cfbc05d0>"
      ]
     },
     "metadata": {},
     "output_type": "display_data"
    }
   ],
   "source": [
    "plot([1.72764202279],[0],'o')\n",
    "plot([2.72764202331],[0],'o')\n",
    "plot([2.85344215089],[0],'o')\n",
    "plot([3.68673613866],[0],'o')\n",
    "plot([3.85344215455],[0],'o')\n",
    "plot([4.37974844549],[0],'o')\n",
    "plot([4.68673614923],[0],'o')\n",
    "plot([4.9859028609],[0],'o')\n",
    "plot([5.37974844674],[0],'o')\n",
    "plot([5.53144389932],[0],'o')\n",
    "plot(5.98590286261,0,'o')\n",
    "plot(6.03157720845,0,'o')"
   ]
  },
  {
   "cell_type": "code",
   "execution_count": null,
   "metadata": {
    "collapsed": true
   },
   "outputs": [],
   "source": []
  }
 ],
 "metadata": {
  "kernelspec": {
   "display_name": "Python [Root]",
   "language": "python",
   "name": "Python [Root]"
  },
  "language_info": {
   "codemirror_mode": {
    "name": "ipython",
    "version": 2
   },
   "file_extension": ".py",
   "mimetype": "text/x-python",
   "name": "python",
   "nbconvert_exporter": "python",
   "pygments_lexer": "ipython2",
   "version": "2.7.12"
  }
 },
 "nbformat": 4,
 "nbformat_minor": 0
}
