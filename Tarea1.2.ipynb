{
 "cells": [
  {
   "cell_type": "code",
   "execution_count": 26,
   "metadata": {
    "collapsed": true
   },
   "outputs": [],
   "source": [
    "from pylab import *\n",
    "%matplotlib inline"
   ]
  },
  {
   "cell_type": "markdown",
   "metadata": {},
   "source": [
    "# Ecuacion diferencial a resolver \n",
    "$$\n",
    "\\dddot{y} + \\ddot{y}^2 - 3\\dot{y}^3 + cos^2(y) = exp(-t)sin(3t)\n",
    "$$\n",
    "con las condiciones iniciales:\n",
    "$$\n",
    "y(1)=1 \\\\ \\\\  \\dot{y}(1)=2 \\\\ \\\\  \\ddot{y}(1)=1 \n",
    "$$"
   ]
  },
  {
   "cell_type": "markdown",
   "metadata": {},
   "source": [
    "Para obtener dos ecuaciones diferenciales de orden 1, se hará el siguiente cambio de variable: \n",
    "\n",
    "$$\n",
    "y(t)=x(t)\\\\ \\\\dy(t)=\\dot{x}(t) \\\\ \\\\ddy(t)=\\ddot{y}(t) \n",
    "$$\n",
    "Definimos las funciones: \n",
    "$$\n",
    "f_1(t,y(t),dy(t)) = dy(t)\\\\ \\\\f_2(t,y(t),dy(t)) = ddy(t)\\\\ \\\\f_3(t,y(t),dy(t)) = exp(-t)sin(3t) -ddy(t)^2 + 3dy(t)^3 - cos^2(y(t))\n",
    "$$"
   ]
  },
  {
   "cell_type": "code",
   "execution_count": 27,
   "metadata": {
    "collapsed": true
   },
   "outputs": [],
   "source": [
    "def f1(ddy,dy,y,t): \n",
    "    return dy\n",
    "def f2(ddy,dy,y,t): \n",
    "    return ddy\n",
    "def f3(ddy,dy,y,t): \n",
    "    return exp(-t)*sin(3*t) - ddy**2 + 3*(dy**3) - (cos(y))**2"
   ]
  },
  {
   "cell_type": "code",
   "execution_count": 28,
   "metadata": {
    "collapsed": false
   },
   "outputs": [],
   "source": [
    "def euler(funcion1,funcion2,funcion3,p_ini,t_final,h): \n",
    "    tiempos = arange(p_ini[0],t_final+h,h) \n",
    "    y = [0]*len(tiempos) \n",
    "    dy = [0]*len(tiempos) \n",
    "    ddy = [0]*len(tiempos) \n",
    "    y[0] = p_ini[1]  \n",
    "    dy[0] = p_ini[2] \n",
    "    ddy[0] = p_ini[3]\n",
    "    for i in range(len(tiempos)-1): \n",
    "        y[i+1]  =  y[i] + funcion1(ddy[i],dy[i],y[i],tiempos[i])*h \n",
    "        dy[i+1] = dy[i] + funcion2(ddy[i],dy[i],y[i],tiempos[i])*h \n",
    "        ddy[i+1]=ddy[i] + funcion3(ddy[i],dy[i],y[i],tiempos[i])*h \n",
    "    return tiempos,y,dy,ddy"
   ]
  },
  {
   "cell_type": "code",
   "execution_count": 29,
   "metadata": {
    "collapsed": true
   },
   "outputs": [],
   "source": [
    "def d_f1(ddy,dy,y,t): \n",
    "    return 0,1\n",
    "def d_f2(ddy,dy,y,t): \n",
    "    return 0,1\n",
    "def d_f3(ddy,dy,y,t): \n",
    "    return exp(-t)*(3*cos(3*t)-sin(3*t)),sin(2*y)"
   ]
  },
  {
   "cell_type": "code",
   "execution_count": 30,
   "metadata": {
    "collapsed": true
   },
   "outputs": [],
   "source": [
    "def segundo_orden1(ec_dif1,ec_dif2,ec_dif3,p_ini,t_final,ec_jac1,ec_jac2,ec_jac3,h): \n",
    "    tiempo=arange(p_ini[0],t_final+h,h) \n",
    "    y = zeros(len(tiempo))\n",
    "    dy = zeros(len(tiempo))\n",
    "    ddy = zeros(len(tiempo))\n",
    "    y[0] = p_ini[1]  \n",
    "    dy[0] = p_ini[2] \n",
    "    ddy[0] = p_ini[3] \n",
    "    for i in range(len(tiempo)-1): \n",
    "        y[i+1] = y[i] + h*ec_dif1(ddy[i],dy[i],y[i],tiempo[i]) \n",
    "        y[i+1] += 0.5*h*h*ec_jac1(ddy[i],dy[i],y[i],tiempo[i])[0]\n",
    "        y[i+1] += 0.5*h*h*ec_jac1(ddy[i],dy[i],y[i],tiempo[i])[1]*ec_dif1(ddy[i],dy[i],y[i],tiempo[i])\n",
    "        dy[i+1] = dy[i] + h*ec_dif2(ddy[i],dy[i],y[i],tiempo[i])  \n",
    "        dy[i+1] += 0.5*h*h*ec_jac2(ddy[i],dy[i],y[i],tiempo[i])[0]\n",
    "        dy[i+1] += 0.5*h*h*ec_jac2(ddy[i],dy[i],y[i],tiempo[i])[1]*ec_dif2(ddy[i],dy[i],y[i],tiempo[i])\n",
    "        ddy[i+1] = ddy[i] + h*ec_dif3(ddy[i],dy[i],y[i],tiempo[i])  \n",
    "        ddy[i+1] += 0.5*h*h*ec_jac3(ddy[i],dy[i],y[i],tiempo[i])[0]\n",
    "        ddy[i+1] += 0.5*h*h*ec_jac3(ddy[i],dy[i],y[i],tiempo[i])[1]*ec_dif3(ddy[i],dy[i],y[i],tiempo[i])\n",
    "    return tiempo,y,dy,ddy "
   ]
  },
  {
   "cell_type": "code",
   "execution_count": 31,
   "metadata": {
    "collapsed": false
   },
   "outputs": [],
   "source": [
    "def rk2(ec_1,ec_2,ec_3,p_ini,t_final,h):\n",
    "    tiempo=arange(p_ini[0],t_final+h,h) \n",
    "    y = zeros(len(tiempo)) \n",
    "    dy = zeros(len(tiempo)) \n",
    "    ddy = zeros(len(tiempo))\n",
    "    y[0] = p_ini[1] \n",
    "    dy[0] = p_ini[2] \n",
    "    ddy[0] = p_ini[3]\n",
    "    for i in xrange(len(tiempo)-1): \n",
    "        k1 = ec_1(ddy[i],dy[i],y[i],tiempo[i]) \n",
    "        k2 = h*ec_1(ddy[i]+k1*h*.5,dy[i]+k1*h*.5,y[i]+k1*h*.5,tiempo[i]+h*.5)\n",
    "        y[i+1] = y[i] + k2\n",
    "        dk1 = ec_2(ddy[i],dy[i],y[i],tiempo[i]) \n",
    "        dk2 = h*ec_2(ddy[i]+dk1*h*.5,dy[i]+dk1*h*.5,y[i]+dk1*h*.5,tiempo[i]+h*.5)\n",
    "        dy[i+1] = dy[i] + dk2\n",
    "        ddk1 = ec_3(ddy[i],dy[i],y[i],tiempo[i]) \n",
    "        ddk2 = h*ec_3(ddy[i]+ddk1*h*.5,dy[i]+ddk1*h*.5,y[i]+ddk1*h*.5,tiempo[i]+h*.5)\n",
    "        ddy[i+1] = ddy[i] + ddk2\n",
    "    return tiempo,y,dy,ddy "
   ]
  },
  {
   "cell_type": "code",
   "execution_count": null,
   "metadata": {
    "collapsed": true
   },
   "outputs": [],
   "source": [
    "def rk4(ec_1,ec_2,ec_3,p_ini,t_final,h):\n",
    "    tiempo=arange(p_ini[0],t_final+h,h) \n",
    "    y = zeros(len(tiempo)) \n",
    "    dy = zeros(len(tiempo))  \n",
    "    ddy = zeros(len(tiempo)) \n",
    "    y[0] = p_ini[1] \n",
    "    dy[0] = p_ini[2] \n",
    "    ddy[0] = p_ini[3] \n",
    "    for i in xrange(len(tiempo)-1): \n",
    "        k1 = ec_1(ddy[i],dy[i],y[i],tiempo[i])  \n",
    "        k2 = ec_1(ddy[i]+k1*h*.5,dy[i]+k1*h*.5,y[i]+k1*h*.5,tiempo[i]+h*.5)\n",
    "        k3 = ec_1(ddy[i]+k2*h*.5,dy[i]+k2*h*.5,y[i]+k2*h*.5,tiempo[i]+h*.5)\n",
    "        k4 = ec_1(ddy[i]+k3*h,dy[i]+k3*h,y[i]+k3*h,tiempo[i]+h)\n",
    "        y[i+1] = y[i] + h*(k1+2*k2+2*k3+k4)/6\n",
    "        dk1 = ec_2(ddy[i],dy[i],y[i],tiempo[i]) \n",
    "        dk2 = ec_2(ddy[i]+dk1*h*.5,dy[i]+dk1*h*.5,y[i]+dk1*h*.5,tiempo[i]+h*.5)\n",
    "        dk3 = ec_2(ddy[i]+dk2*h*.5,dy[i]+dk2*h*.5,y[i]+dk2*h*.5,tiempo[i]+h*.5)\n",
    "        dk4 = ec_2(ddy[i]+k3*h,dy[i]+dk3*h,y[i]+dk3*h,tiempo[i]+h)\n",
    "        dy[i+1] = dy[i] + h*(dk1+2*dk2+2*dk3+dk4)/6\n",
    "        ddk1 = ec_3(ddy[i],dy[i],y[i],tiempo[i]) \n",
    "        ddk2 = ec_3(ddy[i]+ddk1*h*.5,dy[i]+ddk1*h*.5,y[i]+ddk1*h*.5,tiempo[i]+h*.5)\n",
    "        ddk3 = ec_3(ddy[i]+ddk2*h*.5,dy[i]+ddk2*h*.5,y[i]+ddk2*h*.5,tiempo[i]+h*.5)\n",
    "        ddk4 = ec_3(ddy[i]+ddk3*h,dy[i]+ddk3*h,y[i]+ddk3*h,tiempo[i]+h)\n",
    "        ddy[i+1] = ddy[i] + h*(ddk1+2*ddk2+2*ddk3+ddk4)/6\n",
    "    return tiempo,y,dy,ddy "
   ]
  },
  {
   "cell_type": "markdown",
   "metadata": {},
   "source": [
    "# Con un paso de integración de h=0.1"
   ]
  },
  {
   "cell_type": "code",
   "execution_count": 52,
   "metadata": {
    "collapsed": false
   },
   "outputs": [
    {
     "name": "stderr",
     "output_type": "stream",
     "text": [
      "/home/hugosl/anaconda2/lib/python2.7/site-packages/ipykernel/__main__.py:6: RuntimeWarning: overflow encountered in double_scalars\n",
      "/home/hugosl/anaconda2/lib/python2.7/site-packages/ipykernel/__main__.py:6: RuntimeWarning: invalid value encountered in cos\n"
     ]
    },
    {
     "data": {
      "image/png": "[encoded data removed]",
      "text/plain": [
       "<matplotlib.figure.Figure at 0x7f978970b350>"
      ]
     },
     "metadata": {},
     "output_type": "display_data"
    }
   ],
   "source": [
    "sol = euler(f1,f2,f3,[1,1,2,1],2.3,.1) \n",
    "y_seg = segundo_orden1(f1,f2,f3,[1,1,2,1],2.3,d_f1,d_f2,d_f3,0.1) \n",
    "sol1 = rk2(f1,f2,f3,[1,1,2,1],2.3,.1)\n",
    "sol2 = rk4(f1,f2,f3,[1,1,2,1],2.3,.1) \n",
    "xlim([1,2.3]),ylim([0,35])\n",
    "plot(sol[0],sol[1],y_seg[0],y_seg[1],sol1[0],sol1[1],sol2[0],sol2[1])\n",
    "show()"
   ]
  },
  {
   "cell_type": "markdown",
   "metadata": {},
   "source": [
    "Metodo de Euler = azul \n",
    "$$\n",
    "$$\n",
    "Metodo de Taylor de segundo orden = verde \n",
    "$$\n",
    "$$\n",
    "Metodo de Runge Kutta segundo orden = rojo\n",
    "$$\n",
    "$$\n",
    "Metodo de Runge Kutta cuarto orden = azul cielo"
   ]
  },
  {
   "cell_type": "markdown",
   "metadata": {},
   "source": [
    "En la graficada vemos en el intervalo t ∈ [1, 2.3] hay una discontinuaidad y las soluciones obtenidas para los metodos de Euler y Taylor de segundo orden, son asintoticas a la discontinuidad en t = 2.2. Las funciones obtenidas por los metodos de Runge y Kutta son asitoticas a otros puntos anterioes a t=2.2, y parecen ser poco exactas\n"
   ]
  },
  {
   "cell_type": "markdown",
   "metadata": {},
   "source": [
    "# Con un paso de integración de h=0.01"
   ]
  },
  {
   "cell_type": "code",
   "execution_count": 57,
   "metadata": {
    "collapsed": false
   },
   "outputs": [
    {
     "name": "stderr",
     "output_type": "stream",
     "text": [
      "/home/hugosl/anaconda2/lib/python2.7/site-packages/ipykernel/__main__.py:6: RuntimeWarning: overflow encountered in double_scalars\n",
      "/home/hugosl/anaconda2/lib/python2.7/site-packages/ipykernel/__main__.py:6: RuntimeWarning: invalid value encountered in cos\n"
     ]
    },
    {
     "data": {
      "image/png": "[encoded data removed]",
      "text/plain": [
       "<matplotlib.figure.Figure at 0x7f9789053990>"
      ]
     },
     "metadata": {},
     "output_type": "display_data"
    }
   ],
   "source": [
    "sol = euler(f1,f2,f3,[1,1,2,1],2.,.01) \n",
    "y_seg = segundo_orden1(f1,f2,f3,[1,1,2,1],2.,d_f1,d_f2,d_f3,0.01) \n",
    "sol1 = rk2(f1,f2,f3,[1,1,2,1],2.,.01)\n",
    "sol2 = rk4(f1,f2,f3,[1,1,2,1],2.,.01) \n",
    "xlim([1,2.]),ylim([0,20])\n",
    "plot(sol[0],sol[1],y_seg[0],y_seg[1],sol1[0],sol1[1],sol2[0],sol2[1])\n",
    "show()"
   ]
  },
  {
   "cell_type": "markdown",
   "metadata": {},
   "source": [
    "Metodo de Euler = azul \n",
    "$$\n",
    "$$\n",
    "Metodo de Taylor de segundo orden = verde \n",
    "$$\n",
    "$$\n",
    "Metodo de Runge Kutta segundo orden = rojo\n",
    "$$\n",
    "$$\n",
    "Metodo de Runge Kutta cuarto orden = azul cielo"
   ]
  },
  {
   "cell_type": "markdown",
   "metadata": {},
   "source": [
    "En la graficada vemos en el intervalo t ∈ [1, 2] hay una discontinuaidad y las soluciones obtenidas para los metodos de Euler y Taylor de segundo orden, son asintoticas a la discontinuidad entre t = 1.9 y t = 2 . Las funciones obtenidas por los metodos de Runge y Kutta son asitoticas a otros puntos anterioes a t = 1.8, y parecen ser poco exactas"
   ]
  },
  {
   "cell_type": "markdown",
   "metadata": {},
   "source": [
    "# Con un paso de integración de h=0.001"
   ]
  },
  {
   "cell_type": "code",
   "execution_count": 56,
   "metadata": {
    "collapsed": false
   },
   "outputs": [
    {
     "name": "stderr",
     "output_type": "stream",
     "text": [
      "/home/hugosl/anaconda2/lib/python2.7/site-packages/ipykernel/__main__.py:6: RuntimeWarning: overflow encountered in double_scalars\n",
      "/home/hugosl/anaconda2/lib/python2.7/site-packages/ipykernel/__main__.py:6: RuntimeWarning: invalid value encountered in cos\n",
      "/home/hugosl/anaconda2/lib/python2.7/site-packages/ipykernel/__main__.py:18: RuntimeWarning: invalid value encountered in double_scalars\n",
      "/home/hugosl/anaconda2/lib/python2.7/site-packages/ipykernel/__main__.py:6: RuntimeWarning: invalid value encountered in sin\n"
     ]
    },
    {
     "data": {
      "image/png": "[encoded data removed]",
      "text/plain": [
       "<matplotlib.figure.Figure at 0x7f978968a550>"
      ]
     },
     "metadata": {},
     "output_type": "display_data"
    }
   ],
   "source": [
    "sol = euler(f1,f2,f3,[1,1,2,1],2.,.001) \n",
    "y_seg = segundo_orden1(f1,f2,f3,[1,1,2,1],2.,d_f1,d_f2,d_f3,0.001) \n",
    "sol1 = rk2(f1,f2,f3,[1,1,2,1],2.,.001)\n",
    "sol2 = rk4(f1,f2,f3,[1,1,2,1],2.,.001) \n",
    "xlim([1,2.]),ylim([0,16])\n",
    "plot(sol[0],sol[1],y_seg[0],y_seg[1],sol1[0],sol1[1],sol2[0],sol2[1])\n",
    "show()"
   ]
  },
  {
   "cell_type": "markdown",
   "metadata": {},
   "source": [
    "Metodo de Euler = azul \n",
    "$$\n",
    "$$\n",
    "Metodo de Taylor de segundo orden = verde \n",
    "$$\n",
    "$$\n",
    "Metodo de Runge Kutta segundo orden = rojo\n",
    "$$\n",
    "$$\n",
    "Metodo de Runge Kutta cuarto orden = azul cielo"
   ]
  },
  {
   "cell_type": "markdown",
   "metadata": {},
   "source": [
    "En la graficada vemos en el intervalo t ∈ [1, 2] hay una discontinuaidad y las soluciones obtenidas para los metodos de Euler y Taylor de segundo orden, son asintoticas a la discontinuidad entre t = 1.9. Las funciones obtenidas por los metodos de Runge y Kutta son asitoticas a otros puntos cercanos a t = 1.8, y parecen ser bastante mas parecidas a las soluciones de Euler y Taylor"
   ]
  },
  {
   "cell_type": "markdown",
   "metadata": {},
   "source": [
    "# Con un paso de integración de h=0.0001"
   ]
  },
  {
   "cell_type": "code",
   "execution_count": 55,
   "metadata": {
    "collapsed": false
   },
   "outputs": [
    {
     "name": "stderr",
     "output_type": "stream",
     "text": [
      "/home/hugosl/anaconda2/lib/python2.7/site-packages/ipykernel/__main__.py:6: RuntimeWarning: overflow encountered in double_scalars\n",
      "/home/hugosl/anaconda2/lib/python2.7/site-packages/ipykernel/__main__.py:6: RuntimeWarning: invalid value encountered in cos\n",
      "/home/hugosl/anaconda2/lib/python2.7/site-packages/ipykernel/__main__.py:18: RuntimeWarning: invalid value encountered in double_scalars\n"
     ]
    },
    {
     "data": {
      "image/png": "[encoded data removed]",
      "text/plain": [
       "<matplotlib.figure.Figure at 0x7f97889f8c90>"
      ]
     },
     "metadata": {},
     "output_type": "display_data"
    }
   ],
   "source": [
    "sol = euler(f1,f2,f3,[1,1,2,1],2.,.0001) \n",
    "y_seg = segundo_orden1(f1,f2,f3,[1,1,2,1],2.,d_f1,d_f2,d_f3,0.0001) \n",
    "sol1 = rk2(f1,f2,f3,[1,1,2,1],2.,.0001)\n",
    "sol2 = rk4(f1,f2,f3,[1,1,2,1],2.,.0001) \n",
    "xlim([1,2.]),ylim([0,30])\n",
    "plot(sol[0],sol[1],y_seg[0],y_seg[1],sol1[0],sol1[1],sol2[0],sol2[1])\n",
    "show()"
   ]
  },
  {
   "cell_type": "markdown",
   "metadata": {},
   "source": [
    "Metodo de Euler = azul \n",
    "$$\n",
    "$$\n",
    "Metodo de Taylor de segundo orden = verde \n",
    "$$\n",
    "$$\n",
    "Metodo de Runge Kutta segundo orden = rojo\n",
    "$$\n",
    "$$\n",
    "Metodo de Runge Kutta cuarto orden = azul cielo"
   ]
  },
  {
   "cell_type": "markdown",
   "metadata": {},
   "source": [
    "En la graficada vemos en el intervalo t ∈ [1, 2] hay una discontinuaidad y las soluciones obtenidas con los metodos de Euler, Taylor de segundo orden y Runge y Kutta , son asintoticas a la discontinuidad entre t = 1.8 y t = 2. Las funciones obtenidas por los metodos de Runge y Kutta son cada vez mas parecidas a las soluciones de Euler y Taylor."
   ]
  },
  {
   "cell_type": "markdown",
   "metadata": {},
   "source": [
    "# Con un paso de integración de h=0.00001"
   ]
  },
  {
   "cell_type": "code",
   "execution_count": 60,
   "metadata": {
    "collapsed": false
   },
   "outputs": [
    {
     "name": "stderr",
     "output_type": "stream",
     "text": [
      "/home/hugosl/anaconda2/lib/python2.7/site-packages/ipykernel/__main__.py:6: RuntimeWarning: overflow encountered in double_scalars\n",
      "/home/hugosl/anaconda2/lib/python2.7/site-packages/ipykernel/__main__.py:6: RuntimeWarning: invalid value encountered in cos\n",
      "/home/hugosl/anaconda2/lib/python2.7/site-packages/ipykernel/__main__.py:18: RuntimeWarning: invalid value encountered in double_scalars\n"
     ]
    },
    {
     "data": {
      "image/png": "[encoded data removed]",
      "text/plain": [
       "<matplotlib.figure.Figure at 0x7f978911de50>"
      ]
     },
     "metadata": {},
     "output_type": "display_data"
    }
   ],
   "source": [
    "sol = euler(f1,f2,f3,[1,1,2,1],2.3,.00001) \n",
    "y_seg = segundo_orden1(f1,f2,f3,[1,1,2,1],2.3,d_f1,d_f2,d_f3,0.00001) \n",
    "sol1 = rk2(f1,f2,f3,[1,1,2,1],2.3,.00001)\n",
    "sol2 = rk4(f1,f2,f3,[1,1,2,1],2.3,.00001) \n",
    "xlim([1,2.]),ylim([0,60])\n",
    "plot(sol[0],sol[1],y_seg[0],y_seg[1],sol1[0],sol1[1],sol2[0],sol2[1])\n",
    "show()"
   ]
  },
  {
   "cell_type": "markdown",
   "metadata": {},
   "source": [
    "Metodo de Euler = azul \n",
    "$$\n",
    "$$\n",
    "Metodo de Taylor de segundo orden = verde \n",
    "$$\n",
    "$$\n",
    "Metodo de Runge Kutta segundo orden = rojo\n",
    "$$\n",
    "$$\n",
    "Metodo de Runge Kutta cuarto orden = azul cielo"
   ]
  },
  {
   "cell_type": "markdown",
   "metadata": {},
   "source": [
    "En la graficada vemos en el intervalo t ∈ [1, 2] hay una discontinuaidad y las soluciones obtenidas con los metodos de Euler, Taylor de segundo orden y Runge y Kutta , son asintoticas a la discontinuidad localizada entre t = 1.9 y t = 2. Las funciones obtenidas por los metodos de Runge y Kutta son cada vez mas parecidas a las soluciones de Euler y Taylor."
   ]
  },
  {
   "cell_type": "markdown",
   "metadata": {},
   "source": [
    "# Con un paso de integración de h=0.000001"
   ]
  },
  {
   "cell_type": "code",
   "execution_count": 62,
   "metadata": {
    "collapsed": false
   },
   "outputs": [
    {
     "name": "stderr",
     "output_type": "stream",
     "text": [
      "/home/hugosl/anaconda2/lib/python2.7/site-packages/ipykernel/__main__.py:6: RuntimeWarning: overflow encountered in double_scalars\n",
      "/home/hugosl/anaconda2/lib/python2.7/site-packages/ipykernel/__main__.py:6: RuntimeWarning: invalid value encountered in cos\n",
      "/home/hugosl/anaconda2/lib/python2.7/site-packages/ipykernel/__main__.py:18: RuntimeWarning: invalid value encountered in double_scalars\n"
     ]
    },
    {
     "data": {
      "image/png": "[encoded data removed]",
      "text/plain": [
       "<matplotlib.figure.Figure at 0x7f97893d6f90>"
      ]
     },
     "metadata": {},
     "output_type": "display_data"
    }
   ],
   "source": [
    "sol = euler(f1,f2,f3,[1,1,2,1],2.,.000001) \n",
    "y_seg = segundo_orden1(f1,f2,f3,[1,1,2,1],2.,d_f1,d_f2,d_f3,0.000001) \n",
    "sol1 = rk2(f1,f2,f3,[1,1,2,1],2.,.000001)\n",
    "sol2 = rk4(f1,f2,f3,[1,1,2,1],2.,.000001) \n",
    "xlim([1,2.]),ylim([0,80])\n",
    "plot(sol[0],sol[1],y_seg[0],y_seg[1],sol1[0],sol1[1],sol2[0],sol2[1])\n",
    "show()"
   ]
  },
  {
   "cell_type": "markdown",
   "metadata": {},
   "source": [
    "Metodo de Euler = azul \n",
    "$$\n",
    "$$\n",
    "Metodo de Taylor de segundo orden = verde \n",
    "$$\n",
    "$$\n",
    "Metodo de Runge Kutta segundo orden = rojo\n",
    "$$\n",
    "$$\n",
    "Metodo de Runge Kutta cuarto orden = azul cielo"
   ]
  },
  {
   "cell_type": "markdown",
   "metadata": {},
   "source": [
    "En la graficada vemos en el intervalo t ∈ [1, 2] hay una discontinuaidad y las soluciones obtenidas con los metodos de Euler, Taylor de segundo orden y Runge y Kutta , son asintoticas a la discontinuidad localizada entre t = 1.9 y t = 2. Las funciones obtenidas por los metodos de Runge y Kutta son practicamente identicas a las soluciones de Euler y Taylor."
   ]
  },
  {
   "cell_type": "markdown",
   "metadata": {},
   "source": [
    "# Con un paso de integración de h=0.0000001"
   ]
  },
  {
   "cell_type": "code",
   "execution_count": 63,
   "metadata": {
    "collapsed": false
   },
   "outputs": [
    {
     "name": "stderr",
     "output_type": "stream",
     "text": [
      "/home/hugosl/anaconda2/lib/python2.7/site-packages/ipykernel/__main__.py:6: RuntimeWarning: overflow encountered in double_scalars\n",
      "/home/hugosl/anaconda2/lib/python2.7/site-packages/ipykernel/__main__.py:6: RuntimeWarning: invalid value encountered in cos\n",
      "/home/hugosl/anaconda2/lib/python2.7/site-packages/ipykernel/__main__.py:18: RuntimeWarning: invalid value encountered in double_scalars\n",
      "/home/hugosl/anaconda2/lib/python2.7/site-packages/ipykernel/__main__.py:6: RuntimeWarning: invalid value encountered in sin\n"
     ]
    },
    {
     "data": {
      "image/png": "[encoded data removed]",
      "text/plain": [
       "<matplotlib.figure.Figure at 0x7f978a131510>"
      ]
     },
     "metadata": {},
     "output_type": "display_data"
    }
   ],
   "source": [
    "sol = euler(f1,f2,f3,[1,1,2,1],2.,.0000001) \n",
    "y_seg = segundo_orden1(f1,f2,f3,[1,1,2,1],2.,d_f1,d_f2,d_f3,0.0000001) \n",
    "sol1 = rk2(f1,f2,f3,[1,1,2,1],2.,.0000001)\n",
    "sol2 = rk4(f1,f2,f3,[1,1,2,1],2.,.0000001) \n",
    "xlim([1,2.]),ylim([0,150])\n",
    "plot(sol[0],sol[1],y_seg[0],y_seg[1],sol1[0],sol1[1],sol2[0],sol2[1])\n",
    "show()"
   ]
  },
  {
   "cell_type": "markdown",
   "metadata": {},
   "source": [
    "Metodo de Euler = azul \n",
    "$$\n",
    "$$\n",
    "Metodo de Taylor de segundo orden = verde \n",
    "$$\n",
    "$$\n",
    "Metodo de Runge Kutta segundo orden = rojo\n",
    "$$\n",
    "$$\n",
    "Metodo de Runge Kutta cuarto orden = azul cielo"
   ]
  },
  {
   "cell_type": "markdown",
   "metadata": {},
   "source": [
    "En la graficada vemos en el intervalo t ∈ [1, 2] hay una discontinuaidad y las soluciones obtenidas con los metodos de Euler, Taylor de segundo orden y Runge y Kutta , son asintoticas a la discontinuidad localizada entre t = 1.9 y t = 2. "
   ]
  },
  {
   "cell_type": "markdown",
   "metadata": {},
   "source": [
    "# El mejor paso de intrgracion es h=0.0000001, y es con el cual las soluciones obtenidas mediante de todos los metodos de integracion se parecen mas. Las soluciones son asintoticas a un punto entre t = 1.9 y t = 2, donde las soluciones obtenidas mediante el metodo de Euler y Taylor parecen converger mas rapidamente, aunque se supone que los metodos de Runge Kutta son mas exactos. "
   ]
  },
  {
   "cell_type": "code",
   "execution_count": null,
   "metadata": {
    "collapsed": true
   },
   "outputs": [],
   "source": []
  }
 ],
 "metadata": {
  "kernelspec": {
   "display_name": "Python [Root]",
   "language": "python",
   "name": "Python [Root]"
  },
  "language_info": {
   "codemirror_mode": {
    "name": "ipython",
    "version": 2
   },
   "file_extension": ".py",
   "mimetype": "text/x-python",
   "name": "python",
   "nbconvert_exporter": "python",
   "pygments_lexer": "ipython2",
   "version": "2.7.12"
  }
 },
 "nbformat": 4,
 "nbformat_minor": 0
}
